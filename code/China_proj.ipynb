{
 "cells": [
  {
   "cell_type": "code",
   "execution_count": 10,
   "metadata": {},
   "outputs": [],
   "source": [
    "import pandas as pd\n",
    "import matplotlib.pyplot as plt\n",
    "# Read the CSV files\n",
    "cpi_data = pd.read_csv('data/Consumer Price Index All Items Total for China.csv')\n",
    "gdp_data = pd.read_csv('data/Gross Domestic Product Per Capita for China.csv') \n"
   ]
  },
  {
   "cell_type": "code",
   "execution_count": 11,
   "metadata": {},
   "outputs": [],
   "source": [
    "# Convert the dates to datetime format\n",
    "cpi_data['DATE'] = pd.to_datetime(cpi_data['DATE'])\n",
    "gdp_data['DATE'] = pd.to_datetime(gdp_data['DATE'])\n",
    "\n",
    "# Set the date as the index for easier merging\n",
    "cpi_data = cpi_data.set_index('DATE')\n",
    "gdp_data = gdp_data.set_index('DATE')"
   ]
  },
  {
   "cell_type": "code",
   "execution_count": 12,
   "metadata": {},
   "outputs": [
    {
     "name": "stdout",
     "output_type": "stream",
     "text": [
      "         DATE  PCAGDPCNA646NWDB  Yearly CPI  Real GDP Per Capita\n",
      "0  2010-01-01       4550.473944   87.015447          5229.501329\n",
      "1  2011-01-01       5614.386022   91.848195          6112.679758\n",
      "2  2012-01-01       6300.582180   94.254182          6684.671211\n",
      "3  2013-01-01       7020.386074   96.724631          7258.116150\n",
      "4  2014-01-01       7636.074340   98.583333          7745.806600\n",
      "5  2015-01-01       8016.445595  100.000000          8016.445595\n",
      "6  2016-01-01       8094.390167  102.000000          7935.676635\n",
      "7  2017-01-01       8817.045608  103.625000          8508.608548\n",
      "8  2018-01-01       9905.406383  105.775000          9364.600693\n",
      "9  2019-01-01      10143.860221  108.841667          9319.831762\n",
      "10 2020-01-01      10408.719554  111.475000          9337.268046\n",
      "11 2021-01-01      12617.505104  112.568591         11208.726156\n",
      "12 2022-01-01      12720.216318  114.790217         11081.272104\n"
     ]
    }
   ],
   "source": [
    "# Filter the data from 2010 onwards\n",
    "start_year = 2010\n",
    "cpi_data = cpi_data.loc[str(start_year):]\n",
    "gdp_data = gdp_data.loc[str(start_year):]\n",
    "# Resample the data to yearly frequency and calculate the mean\n",
    "yearly_cpi = cpi_data.resample('Y').mean()\n",
    "\n",
    "# Reset the index to make 'DATE' a column again\n",
    "yearly_cpi = yearly_cpi.reset_index()\n",
    "\n",
    "# Rename the 'CHNCPIALLMINMEI' column\n",
    "yearly_cpi = yearly_cpi.rename(columns={'CHNCPIALLMINMEI': 'Yearly CPI'})\n",
    "# Merge the yearly CPI data with the GDP data\n",
    "merged_data = pd.merge_asof(gdp_data, yearly_cpi, on='DATE', direction='forward')\n",
    "\n",
    "# Calculate the real GDP per capita\n",
    "merged_data['Real GDP Per Capita'] = merged_data['PCAGDPCNA646NWDB'] / (merged_data['Yearly CPI'] / 100)\n",
    "\n",
    "print(merged_data)"
   ]
  },
  {
   "cell_type": "code",
   "execution_count": null,
   "metadata": {},
   "outputs": [],
   "source": []
  },
  {
   "cell_type": "code",
   "execution_count": null,
   "metadata": {},
   "outputs": [],
   "source": []
  }
 ],
 "metadata": {
  "kernelspec": {
   "display_name": "Python 3",
   "language": "python",
   "name": "python3"
  },
  "language_info": {
   "codemirror_mode": {
    "name": "ipython",
    "version": 3
   },
   "file_extension": ".py",
   "mimetype": "text/x-python",
   "name": "python",
   "nbconvert_exporter": "python",
   "pygments_lexer": "ipython3",
   "version": "3.8.3"
  }
 },
 "nbformat": 4,
 "nbformat_minor": 4
}
